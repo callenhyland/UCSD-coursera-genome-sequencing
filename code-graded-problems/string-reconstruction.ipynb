{
 "cells": [
  {
   "cell_type": "markdown",
   "metadata": {},
   "source": [
    "<strong>Code Challenge: Solve the String Reconstruction Problem.</strong>\n",
    "     \n",
    "     Input: An integer k followed by a list of k-mers Patterns.\n",
    "     Output: A string Text with k-mer composition equal to Patterns. \n",
    "     (If multiple answers exist, you may return any one.)\n",
    "\n",
    "Answer = genomePath(EulerianPath(DeBruijnGraph(kmers)))"
   ]
  },
  {
   "cell_type": "code",
   "execution_count": 1,
   "metadata": {},
   "outputs": [],
   "source": [
    "def EulerianPathFromAdjacency(ad):\n",
    "    \n",
    "    #Find location with the extra outgoing node\n",
    "    \n",
    "    nodes = ad.keys()\n",
    "    paths = dict.fromkeys(nodes, 0)\n",
    "    for node in nodes:\n",
    "        paths[node] += len(ad[node])\n",
    "        for out in ad[node]:\n",
    "            if out in paths:\n",
    "                paths[out] -= 1\n",
    "            else:\n",
    "                paths[out] = -1\n",
    "    \n",
    "    current_location = [i for i in paths if  paths[i] == 1][0]\n",
    "    \n",
    "    \n",
    "    #initialize stack and circuit\n",
    "    stack = []\n",
    "    circuit = []\n",
    "\n",
    "    while bool(ad):\n",
    "        while ad[current_location] != []:\n",
    "            stack.append(current_location)\n",
    "            current_location = ad[current_location].pop()\n",
    "        circuit.append(current_location)\n",
    "        if stack != []:\n",
    "            current_location = stack.pop()\n",
    "        else:\n",
    "            return(circuit[::-1])"
   ]
  },
  {
   "cell_type": "code",
   "execution_count": 2,
   "metadata": {},
   "outputs": [],
   "source": [
    "def debruijn_from_kmers(kmers):\n",
    "    db = defaultdict(list)\n",
    "    for kmer in kmers:\n",
    "        db[kmer[0:-1]].append(kmer[1:])\n",
    "    return(db)"
   ]
  },
  {
   "cell_type": "code",
   "execution_count": 5,
   "metadata": {},
   "outputs": [],
   "source": [
    "def assemble(lines):\n",
    "    genome = lines[0]\n",
    "    for i in range(1,len(lines)):\n",
    "        genome = genome + lines[i][-1]\n",
    "    return(genome)"
   ]
  },
  {
   "cell_type": "code",
   "execution_count": 7,
   "metadata": {},
   "outputs": [],
   "source": [
    "from collections import defaultdict\n",
    "import sys\n",
    "\n",
    "lines = []\n",
    "with open (\"dataset_203_7.txt\", \"r\") as myfile:\n",
    "    for line in myfile:\n",
    "        lines.append(line.rstrip())\n",
    "kmers = lines[1:]\n",
    "\n",
    "db = debruijn_from_kmers(kmers)\n",
    "path = EulerianPathFromAdjacency(db)\n",
    "genome = assemble(path)\n",
    "\n",
    "f = open(\"genome-from-kmers-step7.txt\", \"w\")\n",
    "f.write(genome)\n",
    "f.close()"
   ]
  }
 ],
 "metadata": {
  "kernelspec": {
   "display_name": "Python 3",
   "language": "python",
   "name": "python3"
  },
  "language_info": {
   "codemirror_mode": {
    "name": "ipython",
    "version": 3
   },
   "file_extension": ".py",
   "mimetype": "text/x-python",
   "name": "python",
   "nbconvert_exporter": "python",
   "pygments_lexer": "ipython3",
   "version": "3.7.0"
  }
 },
 "nbformat": 4,
 "nbformat_minor": 2
}
