{
 "cells": [
  {
   "cell_type": "markdown",
   "metadata": {},
   "source": [
    "### Solve the N-Universal Circular Binary String problem"
   ]
  },
  {
   "cell_type": "code",
   "execution_count": 13,
   "metadata": {},
   "outputs": [
    {
     "name": "stdout",
     "output_type": "stream",
     "text": [
      "0101001111111101111110011110110111101011111010011011101110011010110110101011101010010111100101101001001110110011100100101011001010001111100011101000101110001010101000011110000110110001101000001110000010110000100110011000100100011001000000110000000010001000\n"
     ]
    }
   ],
   "source": [
    "import sys\n",
    "from collections import defaultdict\n",
    "from itertools import product\n",
    "import random\n",
    "\n",
    "\n",
    "def debruijn_from_kmers(kmers):\n",
    "    db = defaultdict(list)\n",
    "    for kmer in kmers:\n",
    "        db[kmer[0:-1]].append(kmer[1:])\n",
    "    return(db)\n",
    "\n",
    "\n",
    "def EulerianCycleFromAdjacency(adj):\n",
    "    #choose current location and initialize stack and circuit\n",
    "    stack = []\n",
    "    circuit = []\n",
    "    current_location = random.choice(list(adj.keys()))\n",
    "\n",
    "    while bool(adj):\n",
    "        while adj[current_location] != []:\n",
    "            stack.append(current_location)\n",
    "            current_location = adj[current_location].pop()\n",
    "        circuit.append(current_location)\n",
    "        if stack != []:\n",
    "            current_location = stack.pop()\n",
    "        else:\n",
    "            return(circuit[::-1])\n",
    "\n",
    "        \n",
    "def assemble(lines):\n",
    "    genome = lines[0]\n",
    "    for i in range(1,len(lines)):\n",
    "        genome = genome + lines[i][-1]\n",
    "    return(genome)\n",
    "\n",
    "n = 8\n",
    "#n = int(sys.stdin.read())\n",
    "bn = [\"\".join(seq) for seq in product(\"01\", repeat = n)]\n",
    "\n",
    "db = debruijn_from_kmers(bn)\n",
    "cycle = EulerianCycleFromAdjacency(db)\n",
    "print(assemble(cycle[:-(n-1)]))"
   ]
  }
 ],
 "metadata": {
  "kernelspec": {
   "display_name": "Python 3",
   "language": "python",
   "name": "python3"
  },
  "language_info": {
   "codemirror_mode": {
    "name": "ipython",
    "version": 3
   },
   "file_extension": ".py",
   "mimetype": "text/x-python",
   "name": "python",
   "nbconvert_exporter": "python",
   "pygments_lexer": "ipython3",
   "version": "3.7.0"
  }
 },
 "nbformat": 4,
 "nbformat_minor": 2
}
