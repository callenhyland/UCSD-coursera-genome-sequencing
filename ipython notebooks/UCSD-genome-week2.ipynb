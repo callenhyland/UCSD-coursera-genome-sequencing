{
 "cells": [
  {
   "cell_type": "markdown",
   "metadata": {},
   "source": [
    "## Notes and code for UCSD genome sequencing week 2"
   ]
  },
  {
   "cell_type": "markdown",
   "metadata": {},
   "source": [
    "Pseudocode for finding an Eulerian cycle in a graph:\n",
    "    \n",
    "    EulerianCycle(Graph)\n",
    "        form a cycle Cycle by randomly walking in Graph (don't visit the same edge twice!)\n",
    "        while there are unexplored edges in Graph\n",
    "            select a node newStart in Cycle with still unexplored edges\n",
    "            form Cycle’ by traversing Cycle (starting at newStart) and then randomly walking \n",
    "            Cycle ← Cycle’\n",
    "        return Cycle\n",
    "\n",
    "\n",
    "You would need to use an efficient data structure in order to maintain the current cycle that Leo is building as well as the list of unused edges incident to each node and the list of nodes on the current cycle that have unused edges."
   ]
  },
  {
   "cell_type": "code",
   "execution_count": 65,
   "metadata": {},
   "outputs": [],
   "source": [
    "\n",
    "def EulerianCycleFromAdjacency(adjacency_dictionary):\n",
    "    #choose current location and initialize stack and circuit\n",
    "    stack = []\n",
    "    circuit = []\n",
    "    current_location = \"0\"\n",
    "\n",
    "    while bool(adj):\n",
    "        while adj[current_location] != []:\n",
    "            stack.append(current_location)\n",
    "            current_location = adj[current_location].pop()\n",
    "        circuit.append(current_location)\n",
    "        if stack != []:\n",
    "            current_location = stack.pop()\n",
    "        else:\n",
    "            return(circuit[::-1])\n"
   ]
  },
  {
   "cell_type": "code",
   "execution_count": 2,
   "metadata": {},
   "outputs": [],
   "source": [
    "from collections import defaultdict\n",
    "adj = defaultdict(list)\n",
    "\n",
    "#parse adjacency list into a dictionary\n",
    "with open (\"dataset_203_2.txt\", \"r\") as myfile:\n",
    "    for line in myfile:\n",
    "        paths = line.rstrip().split(\" -> \")\n",
    "        adj[paths[0]] = paths[1].split(\",\")"
   ]
  },
  {
   "cell_type": "code",
   "execution_count": 74,
   "metadata": {},
   "outputs": [],
   "source": [
    "f = open(\"eulerian-path-step2.txt\", \"w\")\n",
    "path = EulerianCycleFromAdjacency(adj)\n",
    "f.write(\"->\".join(path))\n",
    "f.close()"
   ]
  },
  {
   "cell_type": "code",
   "execution_count": null,
   "metadata": {},
   "outputs": [],
   "source": [
    "#This is the version for the code-graded challenge\n",
    "import sys\n",
    "from collections import defaultdict\n",
    "\n",
    "\n",
    "def EulerianPathFromAdjacency(ad):\n",
    "    nodes = ad.keys()\n",
    "    paths = dict.fromkeys(nodes, 0)\n",
    "    for node in nodes:\n",
    "        paths[node] += len(ad[node])\n",
    "        for out in ad[node]:\n",
    "            if out in paths:\n",
    "                paths[out] -= 1\n",
    "            else:\n",
    "                paths[out] = -1\n",
    "\n",
    "    current_location = [i for i in paths if  paths[i] == 1][0]\n",
    "    stack = []\n",
    "    circuit = []\n",
    "\n",
    "    while bool(ad):\n",
    "        while ad[current_location] != []:\n",
    "            stack.append(current_location)\n",
    "            current_location = ad[current_location].pop()\n",
    "        circuit.append(current_location)\n",
    "        if stack != []:\n",
    "            current_location = stack.pop()\n",
    "        else:\n",
    "            return(circuit[::-1])\n",
    "\n",
    "\n",
    "adj_dict = defaultdict(list)\n",
    "lines = sys.stdin.read().splitlines()\n",
    "for line in lines:\n",
    "    paths = line.rstrip().split(\" -> \")\n",
    "    adj_dict[paths[0]] = paths[1].split(\",\")\n",
    "\n",
    "circuit = EulerianPathFromAdjacency(adj_dict)\n",
    "print(\"->\".join(circuit))"
   ]
  },
  {
   "cell_type": "code",
   "execution_count": 20,
   "metadata": {},
   "outputs": [],
   "source": [
    "def EulerianPathFromAdjacency(ad):\n",
    "    \n",
    "    #Find location with the extra outgoing node\n",
    "    \n",
    "    nodes = ad.keys()\n",
    "    paths = dict.fromkeys(nodes, 0)\n",
    "    for node in nodes:\n",
    "        paths[node] += len(ad[node])\n",
    "        for out in ad[node]:\n",
    "            if out in paths:\n",
    "                paths[out] -= 1\n",
    "            else:\n",
    "                paths[out] = -1\n",
    "    \n",
    "    current_location = [i for i in paths if  paths[i] == 1][0]\n",
    "    \n",
    "    \n",
    "    #initialize stack and circuit\n",
    "    stack = []\n",
    "    circuit = []\n",
    "\n",
    "    while bool(ad):\n",
    "        while ad[current_location] != []:\n",
    "            stack.append(current_location)\n",
    "            current_location = ad[current_location].pop()\n",
    "        circuit.append(current_location)\n",
    "        if stack != []:\n",
    "            current_location = stack.pop()\n",
    "        else:\n",
    "            return(circuit[::-1])"
   ]
  },
  {
   "cell_type": "code",
   "execution_count": 25,
   "metadata": {},
   "outputs": [],
   "source": [
    "from collections import defaultdict\n",
    "adj = defaultdict(list)\n",
    "\n",
    "#parse adjacency list into a dictionary\n",
    "with open (\"dataset_203_6.txt\", \"r\") as myfile:\n",
    "    for line in myfile:\n",
    "        paths = line.rstrip().split(\" -> \")\n",
    "        adj[paths[0]] = paths[1].split(\",\")"
   ]
  },
  {
   "cell_type": "code",
   "execution_count": 26,
   "metadata": {},
   "outputs": [],
   "source": [
    "f = open(\"step6-path-output.txt\", \"w\")\n",
    "path = EulerianPathFromAdjacency(adj)\n",
    "f.write(\"->\".join(path))\n",
    "f.close()"
   ]
  }
 ],
 "metadata": {
  "kernelspec": {
   "display_name": "Python 3",
   "language": "python",
   "name": "python3"
  },
  "language_info": {
   "codemirror_mode": {
    "name": "ipython",
    "version": 3
   },
   "file_extension": ".py",
   "mimetype": "text/x-python",
   "name": "python",
   "nbconvert_exporter": "python",
   "pygments_lexer": "ipython3",
   "version": "3.5.5"
  }
 },
 "nbformat": 4,
 "nbformat_minor": 2
}
