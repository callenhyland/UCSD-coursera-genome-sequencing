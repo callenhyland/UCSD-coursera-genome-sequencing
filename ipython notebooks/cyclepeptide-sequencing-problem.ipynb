{
 "cells": [
  {
   "cell_type": "code",
   "execution_count": 68,
   "metadata": {},
   "outputs": [
    {
     "name": "stdout",
     "output_type": "stream",
     "text": [
      "Once deleted, variables cannot be recovered. Proceed (y/[n])? y\n"
     ]
    }
   ],
   "source": [
    "%reset"
   ]
  },
  {
   "cell_type": "markdown",
   "metadata": {},
   "source": [
    "Pseudocode for cyclopeptide sequencing problem\n",
    "    \n",
    "    CyclopeptideSequencing(Spectrum)\n",
    "        Peptides ← a set containing only the empty peptide\n",
    "        while Peptides is nonempty\n",
    "            Peptides ← Expand(Peptides)\n",
    "            for each peptide Peptide in Peptides\n",
    "                if Mass(Peptide) = ParentMass(Spectrum)\n",
    "                    if Cyclospectrum(Peptide) = Spectrum\n",
    "                        output Peptide\n",
    "                    remove Peptide from Peptides\n",
    "                else if Peptide is not consistent with Spectrum\n",
    "                    remove Peptide from Peptides"
   ]
  },
  {
   "cell_type": "code",
   "execution_count": 69,
   "metadata": {},
   "outputs": [],
   "source": [
    "# import integer mass table for amino acids\n",
    "\n",
    "masses = {}\n",
    "with open (\"integer_mass_table.txt\", \"r\") as myfile:\n",
    "    for line in myfile:\n",
    "        aa_mass = line.rstrip().split(\" \")\n",
    "        masses[aa_mass[0]] = int(aa_mass[1])\n",
    "\n",
    "        \n",
    "# extract just list of unique integer masses\n",
    "mass_set = set(list(masses.values()))\n"
   ]
  },
  {
   "cell_type": "code",
   "execution_count": 70,
   "metadata": {},
   "outputs": [],
   "source": [
    "# generate list of all sub-peptides from a circular sequence\n",
    "\n",
    "def cyclic_subpeptides(pep_seq):\n",
    "    n = len(pep_seq)\n",
    "    cyclo_seq = pep_seq + pep_seq\n",
    "    sub_peptides = []\n",
    "\n",
    "    for size in range(1,n):\n",
    "        for start in range(n):\n",
    "            sub_peptides.append(cyclo_seq[start:start+size])\n",
    "\n",
    "    sub_peptides.append(pep_seq)\n",
    "    return(sub_peptides)\n",
    "\n",
    "\n",
    "# generate list of all sub-peptides from a linear sequence\n",
    "\n",
    "def linear_subpeptides(pep_seq):\n",
    "    n = len(pep_seq)\n",
    "    sub_peptides = []\n",
    "    for size in range(1,n):\n",
    "        for start in range(n-size+1):\n",
    "            sub_peptides.append(pep_seq[start:start+size])\n",
    "\n",
    "    sub_peptides.append(pep_seq)\n",
    "    return(sub_peptides)\n",
    "\n",
    "\n",
    "# calculate mass of each sub_peptide\n",
    "\n",
    "def calc_mass(subpep_seq, mass_dict):\n",
    "    mass = 0\n",
    "    for i in subpep_seq:\n",
    "        mass = mass + mass_dict[i]\n",
    "    return(mass)\n",
    "\n",
    "\n",
    "# calculate mass spectrum of circular peptide\n",
    "\n",
    "def calc_spectrum(pep_seq, mass_dict):\n",
    "    subpep_list = subpeptides(pep_seq)\n",
    "    mass_list = [calc_mass(pep, mass_dict) for pep in subpep_list]\n",
    "    mass_list.append(0)\n",
    "    mass_list.sort()\n",
    "    return(mass_list)"
   ]
  },
  {
   "cell_type": "code",
   "execution_count": 81,
   "metadata": {},
   "outputs": [],
   "source": [
    "\n",
    "def cyclic_sequence(test_spec, masses):\n",
    "    final_peptides = []\n",
    "    parent_mass = max(test_spec)\n",
    "    peptides = [[]]\n",
    "\n",
    "    while len(peptides) != 0:\n",
    "        new_peptides = []\n",
    "        for pep in peptides:\n",
    "            for mass in mass_set:\n",
    "\n",
    "                new_pep = []\n",
    "                new_pep.extend(pep)\n",
    "                new_pep.append(mass)\n",
    "\n",
    "                if sum(new_pep) == parent_mass:\n",
    "                    new_pep_spec = sorted([sum(i) for i in cyclic_subpeptides(new_pep)])\n",
    "                    if ((len(new_pep_spec) == len(test_spec)) and (all(i in test_spec for i in new_pep_spec))):\n",
    "                        final_peptides.append(new_pep)\n",
    "                        break\n",
    "\n",
    "                consistent = True\n",
    "\n",
    "                for sub in linear_subpeptides(new_pep):\n",
    "                    sum_sub = sum(sub)\n",
    "                    if sum_sub not in test_spec:\n",
    "                        consistent = False\n",
    "                        break\n",
    "\n",
    "                if consistent:\n",
    "                    new_peptides.append(new_pep)\n",
    "\n",
    "        peptides = new_peptides\n",
    "\n",
    "    return(final_peptides)"
   ]
  },
  {
   "cell_type": "code",
   "execution_count": 75,
   "metadata": {},
   "outputs": [
    {
     "name": "stdout",
     "output_type": "stream",
     "text": [
      "[0, 71, 97, 99, 103, 113, 113, 114, 115, 131, 137, 196, 200, 202, 208, 214, 226, 227, 228, 240, 245, 299, 311, 311, 316, 327, 337, 339, 340, 341, 358, 408, 414, 424, 429, 436, 440, 442, 453, 455, 471, 507, 527, 537, 539, 542, 551, 554, 556, 566, 586, 622, 638, 640, 651, 653, 657, 664, 669, 679, 685, 735, 752, 753, 754, 756, 766, 777, 782, 782, 794, 848, 853, 865, 866, 867, 879, 885, 891, 893, 897, 956, 962, 978, 979, 980, 980, 990, 994, 996, 1022, 1093]\n"
     ]
    }
   ],
   "source": [
    "# test function on extra dataset\n",
    "with open (\"cyclic-spectrum.txt\", \"r\") as myfile:\n",
    "    for line in myfile:\n",
    "        cyclic_spectrum = line.rstrip().split(\" \")\n",
    "\n",
    "cyclic_spectrum = [int(i) for i in cyclic_spectrum]\n",
    "print(cyclic_spectrum)"
   ]
  },
  {
   "cell_type": "code",
   "execution_count": 83,
   "metadata": {},
   "outputs": [],
   "source": [
    "test_spectrum = sorted(cyclic_spectrum)[1:]\n",
    "candidates = cyclic_sequence(test_spectrum, mass_set)"
   ]
  },
  {
   "cell_type": "code",
   "execution_count": 90,
   "metadata": {},
   "outputs": [],
   "source": [
    "peps = []\n",
    "for cand in candidates:\n",
    "    peps.append(\"-\".join([str(i) for i in cand]))\n",
    "\n",
    "f = open(\"cyclic-sequence-example-results.txt\", \"w\")\n",
    "f.write(\" \".join(peps))\n",
    "f.close()"
   ]
  },
  {
   "cell_type": "code",
   "execution_count": 85,
   "metadata": {},
   "outputs": [
    {
     "name": "stdout",
     "output_type": "stream",
     "text": [
      "[97, 99, 115, 113, 113, 114, 131, 71, 137, 103]\n",
      "[97, 103, 137, 71, 131, 114, 113, 113, 115, 99]\n",
      "[99, 97, 103, 137, 71, 131, 114, 113, 113, 115]\n",
      "[99, 115, 113, 113, 114, 131, 71, 137, 103, 97]\n",
      "[131, 71, 137, 103, 97, 99, 115, 113, 113, 114]\n",
      "[131, 114, 113, 113, 115, 99, 97, 103, 137, 71]\n",
      "[71, 131, 114, 113, 113, 115, 99, 97, 103, 137]\n",
      "[71, 137, 103, 97, 99, 115, 113, 113, 114, 131]\n",
      "[103, 97, 99, 115, 113, 113, 114, 131, 71, 137]\n",
      "[103, 137, 71, 131, 114, 113, 113, 115, 99, 97]\n",
      "[137, 71, 131, 114, 113, 113, 115, 99, 97, 103]\n",
      "[137, 103, 97, 99, 115, 113, 113, 114, 131, 71]\n",
      "[113, 113, 114, 131, 71, 137, 103, 97, 99, 115]\n",
      "[113, 113, 115, 99, 97, 103, 137, 71, 131, 114]\n",
      "[113, 114, 131, 71, 137, 103, 97, 99, 115, 113]\n",
      "[113, 115, 99, 97, 103, 137, 71, 131, 114, 113]\n",
      "[114, 131, 71, 137, 103, 97, 99, 115, 113, 113]\n",
      "[114, 113, 113, 115, 99, 97, 103, 137, 71, 131]\n",
      "[115, 99, 97, 103, 137, 71, 131, 114, 113, 113]\n",
      "[115, 113, 113, 114, 131, 71, 137, 103, 97, 99]\n"
     ]
    }
   ],
   "source": [
    "for cand in candidates:\n",
    "    print(cand)"
   ]
  },
  {
   "cell_type": "code",
   "execution_count": 88,
   "metadata": {},
   "outputs": [
    {
     "name": "stdout",
     "output_type": "stream",
     "text": [
      "[103, 137, 71, 131, 114, 113, 113, 115, 99, 97]\n",
      "[103, 97, 99, 115, 113, 113, 114, 131, 71, 137]\n",
      "[113, 113, 114, 131, 71, 137, 103, 97, 99, 115]\n",
      "[113, 113, 115, 99, 97, 103, 137, 71, 131, 114]\n",
      "[113, 114, 131, 71, 137, 103, 97, 99, 115, 113]\n",
      "[113, 115, 99, 97, 103, 137, 71, 131, 114, 113]\n",
      "[114, 113, 113, 115, 99, 97, 103, 137, 71, 131]\n",
      "[114, 131, 71, 137, 103, 97, 99, 115, 113, 113]\n",
      "[115, 113, 113, 114, 131, 71, 137, 103, 97, 99]\n",
      "[115, 99, 97, 103, 137, 71, 131, 114, 113, 113]\n",
      "[131, 114, 113, 113, 115, 99, 97, 103, 137, 71]\n",
      "[131, 71, 137, 103, 97, 99, 115, 113, 113, 114]\n",
      "[137, 103, 97, 99, 115, 113, 113, 114, 131, 71]\n",
      "[137, 71, 131, 114, 113, 113, 115, 99, 97, 103]\n",
      "[71, 131, 114, 113, 113, 115, 99, 97, 103, 137]\n",
      "[71, 137, 103, 97, 99, 115, 113, 113, 114, 131]\n",
      "[97, 103, 137, 71, 131, 114, 113, 113, 115, 99]\n",
      "[97, 99, 115, 113, 113, 114, 131, 71, 137, 103]\n",
      "[99, 115, 113, 113, 114, 131, 71, 137, 103, 97]\n",
      "[99, 97, 103, 137, 71, 131, 114, 113, 113, 115]\n"
     ]
    }
   ],
   "source": [
    "with open (\"cyclic-sequence-example-answers.txt\", \"r\") as myfile:\n",
    "    for line in myfile:\n",
    "        seq_example = line.rstrip().split(\" \")\n",
    "        \n",
    "for ex in seq_example:\n",
    "    print([int(i) for i in ex.split(\"-\")])"
   ]
  },
  {
   "cell_type": "code",
   "execution_count": 91,
   "metadata": {},
   "outputs": [],
   "source": [
    "# now the \"real\" test question\n",
    "with open (\"dataset_100_6.txt\", \"r\") as myfile:\n",
    "    for line in myfile:\n",
    "        cyclic_spectrum = line.rstrip().split(\" \")\n",
    "\n",
    "cyclic_spectrum = [int(i) for i in cyclic_spectrum]\n",
    "test_spectrum = sorted(cyclic_spectrum)[1:]\n",
    "candidates = cyclic_sequence(test_spectrum, mass_set)"
   ]
  },
  {
   "cell_type": "code",
   "execution_count": 92,
   "metadata": {},
   "outputs": [],
   "source": [
    "peps = []\n",
    "for cand in candidates:\n",
    "    peps.append(\"-\".join([str(i) for i in cand]))\n",
    "\n",
    "f = open(\"cyclic-sequence-results.txt\", \"w\")\n",
    "f.write(\" \".join(peps))\n",
    "f.close()"
   ]
  }
 ],
 "metadata": {
  "kernelspec": {
   "display_name": "Python 3",
   "language": "python",
   "name": "python3"
  },
  "language_info": {
   "codemirror_mode": {
    "name": "ipython",
    "version": 3
   },
   "file_extension": ".py",
   "mimetype": "text/x-python",
   "name": "python",
   "nbconvert_exporter": "python",
   "pygments_lexer": "ipython3",
   "version": "3.7.0"
  }
 },
 "nbformat": 4,
 "nbformat_minor": 2
}
