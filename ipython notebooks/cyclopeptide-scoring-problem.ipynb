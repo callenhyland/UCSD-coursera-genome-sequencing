{
 "cells": [
  {
   "cell_type": "code",
   "execution_count": 3,
   "metadata": {},
   "outputs": [
    {
     "name": "stdout",
     "output_type": "stream",
     "text": [
      "Once deleted, variables cannot be recovered. Proceed (y/[n])? y\n"
     ]
    }
   ],
   "source": [
    "%reset"
   ]
  },
  {
   "cell_type": "code",
   "execution_count": 4,
   "metadata": {},
   "outputs": [],
   "source": [
    "def cyclic_subpeptides(pep_seq):\n",
    "    n = len(pep_seq)\n",
    "    cyclo_seq = pep_seq + pep_seq\n",
    "    sub_peptides = []\n",
    "\n",
    "    for size in range(1,n):\n",
    "        for start in range(n):\n",
    "            sub_peptides.append(cyclo_seq[start:start+size])\n",
    "\n",
    "    sub_peptides.append(pep_seq)\n",
    "    return(sub_peptides)"
   ]
  },
  {
   "cell_type": "code",
   "execution_count": 5,
   "metadata": {},
   "outputs": [],
   "source": [
    "def linear_subpeptides(pep_seq):\n",
    "    n = len(pep_seq)\n",
    "    sub_peptides = []\n",
    "    for size in range(1,n):\n",
    "        for start in range(n-size+1):\n",
    "            sub_peptides.append(pep_seq[start:start+size])\n",
    "\n",
    "    sub_peptides.append(pep_seq)\n",
    "    return(sub_peptides)"
   ]
  },
  {
   "cell_type": "code",
   "execution_count": 6,
   "metadata": {},
   "outputs": [],
   "source": [
    "# generate list of peptide weights from list of peptides\n",
    "\n",
    "def spectrum(peptides):\n",
    "    spec = [0]\n",
    "    for pep in peptides:\n",
    "        spec.append(sum(pep))\n",
    "    return(sorted(spec))"
   ]
  },
  {
   "cell_type": "code",
   "execution_count": 7,
   "metadata": {},
   "outputs": [],
   "source": [
    "# count the number of masses that are in both lists taking duplicates into account\n",
    "\n",
    "def score_peptides(experimental_spectrum, theoretical_spectrum):\n",
    "    score = 0\n",
    "\n",
    "    for i in experimental_spectrum:\n",
    "        if i in theoretical_spectrum:\n",
    "            score += 1\n",
    "            theoretical_spectrum.remove(i)\n",
    "\n",
    "    return(score)"
   ]
  },
  {
   "cell_type": "code",
   "execution_count": 8,
   "metadata": {},
   "outputs": [],
   "source": [
    "# import integer mass table for amino acids\n",
    "\n",
    "masses = {}\n",
    "with open (\"integer-mass-table.txt\", \"r\") as myfile:\n",
    "    for line in myfile:\n",
    "        aa_mass = line.rstrip().split(\" \")\n",
    "        masses[aa_mass[0]] = int(aa_mass[1])\n"
   ]
  },
  {
   "cell_type": "code",
   "execution_count": 26,
   "metadata": {},
   "outputs": [
    {
     "name": "stdout",
     "output_type": "stream",
     "text": [
      "395\n"
     ]
    }
   ],
   "source": [
    "# convert a peptide into a list of masses\n",
    "\n",
    "with open (\"dataset_102_3.txt\", \"r\") as myfile:\n",
    "    for line in myfile:\n",
    "        exp_spec = line.rstrip().split(\" \")\n",
    "\n",
    "exp_spec = [int(i) for i in exp_spec]\n",
    "        \n",
    "peptide = \"HMRIAAPYDGKHCAHFDGPKCYDYDFWVMKRDHCSHEA\"\n",
    "pep_masses = []\n",
    "\n",
    "for i in peptide:\n",
    "    pep_masses.append(masses[i])\n",
    "    \n",
    "# find cyclic spectrum from masses\n",
    "    \n",
    "cyclic_sub = cyclic_subpeptides(pep_masses)\n",
    "cyclic_spec = spectrum(cyclic_sub)\n",
    "print(score_peptides(exp_spec, cyclic_spec))"
   ]
  },
  {
   "cell_type": "code",
   "execution_count": 29,
   "metadata": {},
   "outputs": [
    {
     "name": "stdout",
     "output_type": "stream",
     "text": [
      "8\n"
     ]
    }
   ],
   "source": [
    "# test the scoring function for linear peptides\n",
    "\n",
    "test_pep = \"NQEL\"\n",
    "test_spec = [0, 99, 113, 114, 128, 227, 257, 299, 355, 356, 370, 371, 484]\n",
    "\n",
    "test_pep_masses = []\n",
    "for i in test_pep:\n",
    "    test_pep_masses.append(masses[i])\n",
    "\n",
    "linear_sub = linear_subpeptides(test_pep_masses)\n",
    "linear_spec = spectrum(linear_sub)\n",
    "print(score_peptides(test_spec, linear_spec))"
   ]
  },
  {
   "cell_type": "code",
   "execution_count": 11,
   "metadata": {},
   "outputs": [
    {
     "name": "stdout",
     "output_type": "stream",
     "text": [
      "280\n"
     ]
    }
   ],
   "source": [
    "# repeat linear peptide scoring with downloaded spectrum\n",
    "\n",
    "with open (\"dataset_4913_1.txt\", \"r\") as myfile:\n",
    "    for line in myfile:\n",
    "        exp_spec = line.rstrip().split(\" \")\n",
    "\n",
    "exp_spec = [int(i) for i in exp_spec]\n",
    "        \n",
    "peptide = \"WTFYYQTEKCYTAFMKRYYPEFKDHCYRRDFLPEWLHEMKTR\"\n",
    "pep_masses = []\n",
    "\n",
    "for i in peptide:\n",
    "    pep_masses.append(masses[i])\n",
    "    \n",
    "# find cyclic spectrum from masses\n",
    "    \n",
    "linear_sub = linear_subpeptides(pep_masses)\n",
    "linear_spec = spectrum(linear_sub)\n",
    "print(score_peptides(exp_spec, linear_spec))"
   ]
  }
 ],
 "metadata": {
  "kernelspec": {
   "display_name": "Python 3",
   "language": "python",
   "name": "python3"
  },
  "language_info": {
   "codemirror_mode": {
    "name": "ipython",
    "version": 3
   },
   "file_extension": ".py",
   "mimetype": "text/x-python",
   "name": "python",
   "nbconvert_exporter": "python",
   "pygments_lexer": "ipython3",
   "version": "3.7.0"
  }
 },
 "nbformat": 4,
 "nbformat_minor": 2
}
