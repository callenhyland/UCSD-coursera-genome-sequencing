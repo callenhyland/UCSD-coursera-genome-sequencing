{
 "cells": [
  {
   "cell_type": "code",
   "execution_count": 103,
   "metadata": {},
   "outputs": [
    {
     "name": "stdout",
     "output_type": "stream",
     "text": [
      "Once deleted, variables cannot be recovered. Proceed (y/[n])? y\n"
     ]
    }
   ],
   "source": [
    "%reset"
   ]
  },
  {
   "cell_type": "code",
   "execution_count": 129,
   "metadata": {},
   "outputs": [],
   "source": [
    "\n",
    "def aa_masses(filename):\n",
    "    mass_table = {}\n",
    "    with open (filename, \"r\") as myfile:\n",
    "        for line in myfile:\n",
    "            aa_mass = line.rstrip().split(\" \")\n",
    "            mass_table[aa_mass[0]] = int(aa_mass[1])\n",
    "    return(mass_table)\n",
    "\n",
    "\n",
    "def score_peptides(experimental_spectrum, theoretical_spectrum):\n",
    "    score = 0\n",
    "    for i in experimental_spectrum:\n",
    "        if i in theoretical_spectrum:\n",
    "            score += 1\n",
    "            theoretical_spectrum.remove(i)\n",
    "    return(score)\n",
    "\n",
    "\n",
    "def spectrum(peptides):\n",
    "    spec = [0]\n",
    "    for pep in peptides:\n",
    "        spec.append(sum(pep))\n",
    "    return(sorted(spec))\n",
    "\n",
    "\n",
    "def linear_subpeptides(pep_seq):\n",
    "    n = len(pep_seq)\n",
    "    sub_peptides = []\n",
    "    for size in range(1,n):\n",
    "        for start in range(n-size+1):\n",
    "            sub_peptides.append(pep_seq[start:start+size])\n",
    "    sub_peptides.append(pep_seq)\n",
    "    return(sub_peptides)\n",
    "\n",
    "\n",
    "def cyclic_subpeptides(pep_seq):\n",
    "    n = len(pep_seq)\n",
    "    cyclo_seq = pep_seq + pep_seq\n",
    "    sub_peptides = []\n",
    "    for size in range(1,n):\n",
    "        for start in range(n):\n",
    "            sub_peptides.append(cyclo_seq[start:start+size])\n",
    "\n",
    "    sub_peptides.append(pep_seq)\n",
    "    return(sub_peptides)\n",
    "\n",
    "\n",
    "def aa2masses(peptide, masses):\n",
    "    pep_masses = []\n",
    "    for i in peptide:\n",
    "        pep_masses.append(masses[i])\n",
    "    return(pep_masses)\n",
    "\n",
    "\n",
    "def trim(peptide_leaderboard, exp_spectrum, trim_length):\n",
    "    scores = []\n",
    "    for lb in peptide_leaderboard:\n",
    "        #changed this to linear\n",
    "        score = score_peptides(exp_spectrum, spectrum(linear_subpeptides(lb)))\n",
    "        scores.append(score)\n",
    "    if len(scores) > trim_length:\n",
    "        cutoff = sorted(scores, reverse = True)[trim_length-1]\n",
    "        num_keep = len([i for i in scores if i >= cutoff])\n",
    "        lb_sorted = [x for s,x in sorted(zip(scores, peptide_leaderboard), reverse = True)]\n",
    "        return(lb_sorted[0:num_keep])\n",
    "    else:\n",
    "        return(peptide_leaderboard)\n"
   ]
  },
  {
   "cell_type": "code",
   "execution_count": 124,
   "metadata": {},
   "outputs": [],
   "source": [
    "def cyclic_leaderboard_sequence(exp_spec, trim_length, mass_set):\n",
    "\n",
    "    parent_mass = max(exp_spec)\n",
    "    peptides = [[]]\n",
    "    leader_peptide = []\n",
    "\n",
    "    while len(peptides) != 0:\n",
    "        new_peptides = []\n",
    "        \n",
    "        # expand peptide list\n",
    "        for pep in peptides:\n",
    "            for mass in mass_set:\n",
    "                new_pep = []\n",
    "                new_pep.extend(pep)\n",
    "                new_pep.append(mass)\n",
    "                new_peptides.append(new_pep)\n",
    "        \n",
    "        # test each peptide to see if it's the leader peptide or greater than parent mass\n",
    "        filtered_peptides = []\n",
    "        for pep in new_peptides:\n",
    "\n",
    "            if sum(pep) == parent_mass:\n",
    "                new_spec = spectrum(cyclic_subpeptides(pep))\n",
    "                leader_spec = spectrum(cyclic_subpeptides(leader_peptide))\n",
    "                if score_peptides(exp_spec, new_spec) > score_peptides(exp_spec, leader_spec):\n",
    "                    leader_peptide = pep\n",
    "            if sum(pep) <= parent_mass:\n",
    "                filtered_peptides.append(pep)\n",
    "\n",
    "        # trim the list to just the top N peptides (and ties)\n",
    "        peptides = trim(filtered_peptides, exp_spec, trim_length)\n",
    "    \n",
    "    return(leader_peptide)"
   ]
  },
  {
   "cell_type": "code",
   "execution_count": 132,
   "metadata": {},
   "outputs": [
    {
     "name": "stdout",
     "output_type": "stream",
     "text": [
      "147-71-129-113\n"
     ]
    }
   ],
   "source": [
    "# sample dataset\n",
    "\n",
    "masses = aa_masses(\"integer-mass-table.txt\")\n",
    "mass18 = sorted(set(masses.values()))\n",
    "\n",
    "example_spec = [0, 71, 113, 129, 147, 200, 218, 260, 313, 331, 347, 389, 460]\n",
    "N = 5\n",
    "\n",
    "result = cyclic_leaderboard_sequence(example_spec, N, mass18)\n",
    "print(\"-\".join([str(i) for i in result]))"
   ]
  },
  {
   "cell_type": "code",
   "execution_count": 135,
   "metadata": {},
   "outputs": [],
   "source": [
    "masses = aa_masses(\"integer-mass-table.txt\")\n",
    "mass18 = sorted(set(masses.values()))\n",
    "\n",
    "f = open(\"dataset_102_8.txt\", \"r\")\n",
    "content = f.readlines()\n",
    "f.close()\n",
    "\n",
    "N = 200\n",
    "example_spec = [int(i) for i in content[1].split(\" \")]\n",
    "\n",
    "result = cyclic_leaderboard_sequence(example_spec, N, mass18)\n",
    "\n",
    "f = open(\"leaderboard-solution.txt\", \"w\")\n",
    "f.write(\"-\".join([str(i) for i in result]))\n",
    "f.close()"
   ]
  }
 ],
 "metadata": {
  "kernelspec": {
   "display_name": "Python 3",
   "language": "python",
   "name": "python3"
  },
  "language_info": {
   "codemirror_mode": {
    "name": "ipython",
    "version": 3
   },
   "file_extension": ".py",
   "mimetype": "text/x-python",
   "name": "python",
   "nbconvert_exporter": "python",
   "pygments_lexer": "ipython3",
   "version": "3.7.0"
  }
 },
 "nbformat": 4,
 "nbformat_minor": 2
}
