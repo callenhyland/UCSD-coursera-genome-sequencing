{
 "cells": [
  {
   "cell_type": "code",
   "execution_count": 29,
   "metadata": {},
   "outputs": [
    {
     "name": "stdout",
     "output_type": "stream",
     "text": [
      "Once deleted, variables cannot be recovered. Proceed (y/[n])? y\n"
     ]
    }
   ],
   "source": [
    "%reset"
   ]
  },
  {
   "cell_type": "code",
   "execution_count": 16,
   "metadata": {},
   "outputs": [],
   "source": [
    "\n",
    "def aa_masses(filename):\n",
    "    mass_table = {}\n",
    "    with open (filename, \"r\") as myfile:\n",
    "        for line in myfile:\n",
    "            aa_mass = line.rstrip().split(\" \")\n",
    "            mass_table[aa_mass[0]] = int(aa_mass[1])\n",
    "    return(mass_table)\n",
    "\n",
    "\n",
    "def score_peptides(experimental_spectrum, theoretical_spectrum):\n",
    "    score = 0\n",
    "    for i in experimental_spectrum:\n",
    "        if i in theoretical_spectrum:\n",
    "            score += 1\n",
    "            theoretical_spectrum.remove(i)\n",
    "    return(score)\n",
    "\n",
    "\n",
    "def spectrum(peptides):\n",
    "    spec = [0]\n",
    "    for pep in peptides:\n",
    "        spec.append(sum(pep))\n",
    "    return(sorted(spec))\n",
    "\n",
    "\n",
    "def linear_subpeptides(pep_seq):\n",
    "    n = len(pep_seq)\n",
    "    sub_peptides = []\n",
    "    for size in range(1,n):\n",
    "        for start in range(n-size+1):\n",
    "            sub_peptides.append(pep_seq[start:start+size])\n",
    "    sub_peptides.append(pep_seq)\n",
    "    return(sub_peptides)\n",
    "\n",
    "\n",
    "def cyclic_subpeptides(pep_seq):\n",
    "    n = len(pep_seq)\n",
    "    cyclo_seq = pep_seq + pep_seq\n",
    "    sub_peptides = []\n",
    "    for size in range(1,n):\n",
    "        for start in range(n):\n",
    "            sub_peptides.append(cyclo_seq[start:start+size])\n",
    "    sub_peptides.append(pep_seq)\n",
    "    return(sub_peptides)\n",
    "\n",
    "\n",
    "def aa2masses(peptide):\n",
    "    pep_masses = []\n",
    "    for i in peptide:\n",
    "        pep_masses.append(masses[i])\n",
    "    return(pep_masses)"
   ]
  },
  {
   "cell_type": "code",
   "execution_count": 17,
   "metadata": {},
   "outputs": [],
   "source": [
    "def trim(peptide_leaderboard, exp_spectrum, return_length):\n",
    "    scores = []\n",
    "    for lb in peptide_leaderboard:\n",
    "        lb_masses = aa2masses(lb)\n",
    "        score = score_peptides(exp_spectrum, spectrum(linear_subpeptides(lb_masses)))\n",
    "        scores.append(score)\n",
    "\n",
    "    cutoff = sorted(scores, reverse = True)[return_length-1]\n",
    "    num_keep = len([i for i in scores if i >= cutoff])\n",
    "    lb_sorted = [x for s,x in sorted(zip(scores, peptide_leaderboard), reverse = True)]\n",
    "    return(lb_sorted[0:num_keep])"
   ]
  },
  {
   "cell_type": "code",
   "execution_count": 36,
   "metadata": {},
   "outputs": [
    {
     "name": "stdout",
     "output_type": "stream",
     "text": [
      "['LAST', 'ALST']\n"
     ]
    }
   ],
   "source": [
    "masses = aa_masses(\"integer-mass-table.txt\")\n",
    "\n",
    "n = 2\n",
    "leaderboard = [\"LAST\", \"ALST\", \"TLLT\", \"TQAS\"]\n",
    "spec = [0, 71, 87, 101, 113, 158, 184, 188, 259, 271, 372]\n",
    "print(trim(leaderboard, spec, n))\n"
   ]
  },
  {
   "cell_type": "code",
   "execution_count": 33,
   "metadata": {},
   "outputs": [],
   "source": [
    "masses = aa_masses(\"integer-mass-table.txt\")\n",
    "\n",
    "f = open(\"dataset_4913_3.txt\", \"r\")\n",
    "content = f.readlines()\n",
    "f.close()\n",
    "\n",
    "leaderboard = content[0].rstrip().split(\" \")\n",
    "spec = [int(i) for i in content[1].split(\" \")]\n",
    "n = int(content[2])\n",
    "#answers = content[5].rstrip().split(\" \")\n",
    "\n",
    "result = trim(leaderboard, spec, n)\n",
    "\n",
    "f = open(\"dataset_4913_3-solution.txt\", \"w\")\n",
    "f.write(\" \".join(result))\n",
    "f.close()"
   ]
  }
 ],
 "metadata": {
  "kernelspec": {
   "display_name": "Python 3",
   "language": "python",
   "name": "python3"
  },
  "language_info": {
   "codemirror_mode": {
    "name": "ipython",
    "version": 3
   },
   "file_extension": ".py",
   "mimetype": "text/x-python",
   "name": "python",
   "nbconvert_exporter": "python",
   "pygments_lexer": "ipython3",
   "version": "3.7.0"
  }
 },
 "nbformat": 4,
 "nbformat_minor": 2
}
