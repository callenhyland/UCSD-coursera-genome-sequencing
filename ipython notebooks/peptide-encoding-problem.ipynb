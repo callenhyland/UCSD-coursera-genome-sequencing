{
 "cells": [
  {
   "cell_type": "code",
   "execution_count": 83,
   "metadata": {},
   "outputs": [
    {
     "name": "stdout",
     "output_type": "stream",
     "text": [
      "Once deleted, variables cannot be recovered. Proceed (y/[n])? y\n"
     ]
    }
   ],
   "source": [
    "%reset"
   ]
  },
  {
   "cell_type": "code",
   "execution_count": 85,
   "metadata": {},
   "outputs": [],
   "source": [
    "# function for finding reverse complement\n",
    "\n",
    "def reverse_complement(sequence):\n",
    "  bp_dict = {\"A\":\"T\", \"T\":\"A\", \"C\":\"G\", \"G\":\"C\"}\n",
    "  comp = ''.join([bp_dict[b] for b in sequence])\n",
    "  reverse_comp = comp[::-1]\n",
    "  return(reverse_comp)"
   ]
  },
  {
   "cell_type": "code",
   "execution_count": 86,
   "metadata": {},
   "outputs": [],
   "source": [
    "# function to transcribe DNA to RNA\n",
    "\n",
    "def transcribe(dna_sequence):\n",
    "  bp_dict = {\"T\":\"U\", \"A\":\"A\", \"G\":\"G\", \"C\":\"C\"}\n",
    "  return(''.join([bp_dict[b] for b in dna_sequence]))"
   ]
  },
  {
   "cell_type": "code",
   "execution_count": 87,
   "metadata": {},
   "outputs": [],
   "source": [
    "# function for translating sequence\n",
    "\n",
    "def translate(rna_sequence, codons, a = 0):\n",
    "    translated = \"\"\n",
    "\n",
    "    while a < len(rna_sequence)-2:\n",
    "        triplet = rna_sequence[a:a+3]\n",
    "        aa = codons[triplet]\n",
    "        translated = translated + aa\n",
    "        a = a+3\n",
    "        \n",
    "    return(translated)"
   ]
  },
  {
   "cell_type": "code",
   "execution_count": 88,
   "metadata": {},
   "outputs": [],
   "source": [
    "# Import the RNA codon table\n",
    "\n",
    "codons = {}\n",
    "with open (\"RNA_codon_table_1.txt\", \"r\") as myfile:\n",
    "    for line in myfile:\n",
    "        code = line.rstrip().split(\" \")\n",
    "        if len(code) > 1:\n",
    "            codons[code[0]] = code[1]\n",
    "        else:\n",
    "            codons[code[0]] = \" \""
   ]
  },
  {
   "cell_type": "code",
   "execution_count": 110,
   "metadata": {},
   "outputs": [],
   "source": [
    "def peptide_encoding(dna, peptide, codons):\n",
    "    rc_dna = reverse_complement(dna)\n",
    "    sub_dna = find_peptide(dna, peptide, codons)\n",
    "    rev_subseqs = find_peptide(rc_dna, peptide, codons)\n",
    "    for i in rev_subseqs:\n",
    "        sub_dna.append(reverse_complement(i))\n",
    "    return(sub_dna)\n",
    "    \n",
    "    \n",
    "def find_peptide(dna, peptide, codons):\n",
    "    substrings = []\n",
    "    pep_len = len(peptide)\n",
    "    rna = transcribe(dna)\n",
    "    \n",
    "    for i in range(3):\n",
    "        protein = translate(rna, codons, a=i)\n",
    "        #print(protein)\n",
    "        ind = 0\n",
    "        while ind >= 0:\n",
    "            ind = protein.find(peptide, ind)\n",
    "            #print(ind)\n",
    "            if ind == -1:\n",
    "                break\n",
    "            substrings.append(dna[(ind*3+i):(ind*3+pep_len*3+i)])\n",
    "            ind += 1\n",
    "    return(substrings)\n",
    "        "
   ]
  },
  {
   "cell_type": "code",
   "execution_count": 111,
   "metadata": {},
   "outputs": [
    {
     "data": {
      "text/plain": [
       "['ATGGCC', 'ATGGCC', 'GGCCAT']"
      ]
     },
     "execution_count": 111,
     "metadata": {},
     "output_type": "execute_result"
    }
   ],
   "source": [
    "# run test data set - it works!\n",
    "\n",
    "test_dna = \"ATGGCCATGGCCCCCAGAACTGAGATCAATAGTACCCGTATTAACGGGTGA\"\n",
    "test_peptide = \"MA\"\n",
    "\n",
    "peptide_encoding(test_dna, test_peptide, codons)"
   ]
  },
  {
   "cell_type": "code",
   "execution_count": 117,
   "metadata": {},
   "outputs": [],
   "source": [
    "# run extra data set - yes it works!\n",
    "\n",
    "extra_pep = \"KEVFEPHYY\"\n",
    "\n",
    "extra_dna = \"\"\n",
    "with open(\"dna-for-peptide-encoding.txt\", \"r\") as myfile:\n",
    "    for line in myfile:\n",
    "        extra_dna = extra_dna + line\n",
    "\n",
    "encode_strings = peptide_encoding(extra_dna, extra_pep, codons)\n",
    "\n",
    "f = open(\"peptide-encode-test-results.txt\", \"w\")\n",
    "f.write(\"\\n\".join(encode_strings))\n",
    "f.close()"
   ]
  },
  {
   "cell_type": "code",
   "execution_count": 118,
   "metadata": {},
   "outputs": [],
   "source": [
    "# run the problem random dataset\n",
    "\n",
    "random_pep = \"YHMKPWKWKG\"\n",
    "\n",
    "random_dna = \"\"\n",
    "with open(\"dataset_96_7.txt\", \"r\") as myfile:\n",
    "    for line in myfile:\n",
    "        random_dna = random_dna + line\n",
    "        \n",
    "encode_strings = peptide_encoding(random_dna, random_pep, codons)\n",
    "\n",
    "f = open(\"peptide-encode-probem-results.txt\", \"w\")\n",
    "f.write(\"\\n\".join(encode_strings))\n",
    "f.close()"
   ]
  },
  {
   "cell_type": "code",
   "execution_count": 120,
   "metadata": {},
   "outputs": [],
   "source": [
    "# Bacillus brevis genome problem - genome does not contain peptide!!\n",
    "\n",
    "tyro = \"VKLFPWFNQY\"\n",
    "\n",
    "bac_genome = \"\"\n",
    "with open(\"bacillus-brevis-genome.txt\", \"r\") as myfile:\n",
    "    for line in myfile:\n",
    "        bac_genome = bac_genome + line.rstrip()\n",
    "        \n",
    "encode_strings = peptide_encoding(bac_genome, tyro, codons)\n",
    "\n",
    "f = open(\"bac-genome-encode-results.txt\", \"w\")\n",
    "f.write(\"\\n\".join(encode_strings))\n",
    "f.close()"
   ]
  }
 ],
 "metadata": {
  "kernelspec": {
   "display_name": "Python 3",
   "language": "python",
   "name": "python3"
  },
  "language_info": {
   "codemirror_mode": {
    "name": "ipython",
    "version": 3
   },
   "file_extension": ".py",
   "mimetype": "text/x-python",
   "name": "python",
   "nbconvert_exporter": "python",
   "pygments_lexer": "ipython3",
   "version": "3.7.0"
  }
 },
 "nbformat": 4,
 "nbformat_minor": 2
}
