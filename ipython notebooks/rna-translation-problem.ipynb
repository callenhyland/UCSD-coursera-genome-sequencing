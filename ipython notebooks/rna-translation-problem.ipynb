{
 "cells": [
  {
   "cell_type": "code",
   "execution_count": 13,
   "metadata": {},
   "outputs": [],
   "source": [
    "# Import the RNA codon table\n",
    "\n",
    "codons = {}\n",
    "with open (\"RNA_codon_table_1.txt\", \"r\") as myfile:\n",
    "    for line in myfile:\n",
    "        code = line.rstrip().split(\" \")\n",
    "        if len(code) > 1:\n",
    "            codons[code[0]] = code[1]\n",
    "        else:\n",
    "            codons[code[0]] = \" \"\n",
    "        "
   ]
  },
  {
   "cell_type": "code",
   "execution_count": 36,
   "metadata": {},
   "outputs": [],
   "source": [
    "# import the RNA sequence\n",
    "\n",
    "rna = \"\"\n",
    "with open(\"dataset_96_4.txt\", \"r\") as myfile:\n",
    "    for line in myfile:\n",
    "        rna = rna + line"
   ]
  },
  {
   "cell_type": "code",
   "execution_count": 37,
   "metadata": {},
   "outputs": [],
   "source": [
    "# translate the rna sequence into protein and save\n",
    "\n",
    "a = 0\n",
    "protein = \"\"\n",
    "\n",
    "while a < len(rna)-2:\n",
    "    triplet = rna[a:a+3]\n",
    "    aa = codons[triplet]\n",
    "    protein = protein + aa\n",
    "    a = a+3\n",
    "\n",
    "f = open('rna-seq-translated.txt', 'w')\n",
    "f.write(protein.upper())\n",
    "f.close()"
   ]
  }
 ],
 "metadata": {
  "kernelspec": {
   "display_name": "Python 3",
   "language": "python",
   "name": "python3"
  },
  "language_info": {
   "codemirror_mode": {
    "name": "ipython",
    "version": 3
   },
   "file_extension": ".py",
   "mimetype": "text/x-python",
   "name": "python",
   "nbconvert_exporter": "python",
   "pygments_lexer": "ipython3",
   "version": "3.5.5"
  }
 },
 "nbformat": 4,
 "nbformat_minor": 2
}
