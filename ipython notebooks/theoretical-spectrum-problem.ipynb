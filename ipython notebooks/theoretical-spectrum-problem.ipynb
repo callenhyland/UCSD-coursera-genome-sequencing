{
 "cells": [
  {
   "cell_type": "code",
   "execution_count": 15,
   "metadata": {},
   "outputs": [
    {
     "name": "stdout",
     "output_type": "stream",
     "text": [
      "Once deleted, variables cannot be recovered. Proceed (y/[n])? y\n"
     ]
    }
   ],
   "source": [
    "%reset"
   ]
  },
  {
   "cell_type": "code",
   "execution_count": 16,
   "metadata": {},
   "outputs": [],
   "source": [
    "# generate list of all sub-peptides from a circular sequence\n",
    "\n",
    "def subpeptides(pep_seq):\n",
    "    n = len(pep_seq)\n",
    "\n",
    "    # loop around to the beginning to make circular\n",
    "    cyclo_seq = pep_seq + pep_seq\n",
    "\n",
    "    sub_peptides = []\n",
    "\n",
    "    # outer for loop: range of peptide sizes\n",
    "    # inner for loop: iterate along peptide string\n",
    "\n",
    "    for size in range(1,n):\n",
    "        for start in range(n):\n",
    "            sub_peptides.append(cyclo_seq[start:start+size])\n",
    "\n",
    "    sub_peptides.append(pep_seq)\n",
    "    return(sub_peptides)"
   ]
  },
  {
   "cell_type": "code",
   "execution_count": 17,
   "metadata": {},
   "outputs": [],
   "source": [
    "# import integer mass table for amino acids\n",
    "\n",
    "masses = {}\n",
    "with open (\"integer_mass_table.txt\", \"r\") as myfile:\n",
    "    for line in myfile:\n",
    "        aa_mass = line.rstrip().split(\" \")\n",
    "        masses[aa_mass[0]] = int(aa_mass[1])"
   ]
  },
  {
   "cell_type": "code",
   "execution_count": 18,
   "metadata": {},
   "outputs": [],
   "source": [
    "# calculate mass of each sub_peptide\n",
    "\n",
    "def calc_mass(subpep_seq, mass_dict):\n",
    "    mass = 0\n",
    "    for i in subpep_seq:\n",
    "        mass = mass + mass_dict[i]\n",
    "    \n",
    "    return(mass)"
   ]
  },
  {
   "cell_type": "code",
   "execution_count": 23,
   "metadata": {},
   "outputs": [],
   "source": [
    "# calculate mass spectrum of circular peptide\n",
    "\n",
    "def calc_spectrum(pep_seq, mass_dict):\n",
    "    subpep_list = subpeptides(pep_seq)\n",
    "    mass_list = [calc_mass(pep, mass_dict) for pep in subpep_list]\n",
    "    mass_list.append(0)\n",
    "    mass_list.sort()\n",
    "    return(mass_list)"
   ]
  },
  {
   "cell_type": "code",
   "execution_count": 28,
   "metadata": {},
   "outputs": [],
   "source": [
    "# calculate and save theoretical spectrum for a peptide\n",
    "\n",
    "peptide = \"EIWFTIPKSTESL\"\n",
    "spectrum = calc_spectrum(peptide, masses)\n",
    "\n",
    "f = open(\"theoretical-spectrum-results.txt\", \"w\")\n",
    "f.write(\" \".join(str(i) for i in spectrum))\n",
    "f.close()"
   ]
  },
  {
   "cell_type": "code",
   "execution_count": 31,
   "metadata": {},
   "outputs": [
    {
     "name": "stdout",
     "output_type": "stream",
     "text": [
      "1212165704\n"
     ]
    }
   ],
   "source": [
    "# find number of subpeptides in a linear peptide of length N\n",
    "\n",
    "n = 49237\n",
    "num_linear = 1\n",
    "for i in range(n+1):\n",
    "    num_linear = num_linear + i\n",
    "\n",
    "print(num_linear)"
   ]
  }
 ],
 "metadata": {
  "kernelspec": {
   "display_name": "Python 3",
   "language": "python",
   "name": "python3"
  },
  "language_info": {
   "codemirror_mode": {
    "name": "ipython",
    "version": 3
   },
   "file_extension": ".py",
   "mimetype": "text/x-python",
   "name": "python",
   "nbconvert_exporter": "python",
   "pygments_lexer": "ipython3",
   "version": "3.7.0"
  }
 },
 "nbformat": 4,
 "nbformat_minor": 2
}
